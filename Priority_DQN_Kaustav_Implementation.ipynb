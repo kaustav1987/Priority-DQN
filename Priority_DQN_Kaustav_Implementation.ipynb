{
  "nbformat": 4,
  "nbformat_minor": 0,
  "metadata": {
    "colab": {
      "name": "Priority DQN  Kaustav Implementation.ipynb",
      "version": "0.3.2",
      "provenance": [],
      "collapsed_sections": []
    },
    "kernelspec": {
      "name": "python3",
      "display_name": "Python 3"
    },
    "accelerator": "GPU"
  },
  "cells": [
    {
      "cell_type": "markdown",
      "metadata": {
        "id": "W1WUmtXjfDsj",
        "colab_type": "text"
      },
      "source": [
        "This is the implementation of paper https://arxiv.org/pdf/1511.05952.pdf \n",
        "\n",
        "I have used the sample weight for updating the prioty. Please check if you want to modify that for your environment"
      ]
    },
    {
      "cell_type": "markdown",
      "metadata": {
        "id": "y0-cZNfXAVdE",
        "colab_type": "text"
      },
      "source": [
        "# Priority Deep Q-Network (Double DQN)\n",
        "---\n",
        "In this notebook, you will implement a DQN agent with OpenAI Gym's LunarLander-v2 environment.\n",
        "\n",
        "### 1. Import the Necessary Packages"
      ]
    },
    {
      "cell_type": "code",
      "metadata": {
        "id": "JZT6doLTe75s",
        "colab_type": "code",
        "outputId": "a4ea43ca-9320-4f65-c2e1-c90d0ee32786",
        "colab": {
          "base_uri": "https://localhost:8080/",
          "height": 101
        }
      },
      "source": [
        "# memory footprint support libraries/code\n",
        "!ln -sf /opt/bin/nvidia-smi /usr/bin/nvidia-smi\n",
        "!pip install gputil\n",
        "!pip install psutil\n",
        "!pip install humanize\n",
        "import psutil\n",
        "import humanize\n",
        "import os\n",
        "import GPUtil as GPU\n",
        "GPUs = GPU.getGPUs()\n",
        "# XXX: only one GPU on Colab and isn’t guaranteed\n",
        "gpu = GPUs[0]\n",
        "def printm():\n",
        " process = psutil.Process(os.getpid())\n",
        " print(\"Gen RAM Free: \" + humanize.naturalsize( psutil.virtual_memory().available ), \" | Proc size: \" + humanize.naturalsize( process.memory_info().rss))\n",
        " print(\"GPU RAM Free: {0:.0f}MB | Used: {1:.0f}MB | Util {2:3.0f}% | Total {3:.0f}MB\".format(gpu.memoryFree, gpu.memoryUsed, gpu.memoryUtil*100, gpu.memoryTotal))\n",
        "printm()"
      ],
      "execution_count": 1,
      "outputs": [
        {
          "output_type": "stream",
          "text": [
            "Requirement already satisfied: gputil in /usr/local/lib/python3.6/dist-packages (1.4.0)\n",
            "Requirement already satisfied: psutil in /usr/local/lib/python3.6/dist-packages (5.4.8)\n",
            "Requirement already satisfied: humanize in /usr/local/lib/python3.6/dist-packages (0.5.1)\n",
            "Gen RAM Free: 10.6 GB  | Proc size: 153.9 MB\n",
            "GPU RAM Free: 14304MB | Used: 775MB | Util   5% | Total 15079MB\n"
          ],
          "name": "stdout"
        }
      ]
    },
    {
      "cell_type": "code",
      "metadata": {
        "id": "ymAnIyhQfJpv",
        "colab_type": "code",
        "outputId": "c41fb14f-f8c4-42aa-d3ba-cc0e830ac6b6",
        "colab": {
          "base_uri": "https://localhost:8080/",
          "height": 840
        }
      },
      "source": [
        "!apt-get install -y python-numpy python-dev cmake zlib1g-dev libjpeg-dev xvfb libav-tools xorg-dev python-opengl libboost-all-dev libsdl2-dev swig\n",
        "!pip install pyvirtualdisplay\n",
        "##!pip install piglet\n",
        "!pip install pyglet==1.3.2  ###DONT CHANGE THE VERSION\n",
        "!apt-get install xvfb\n",
        "from pyvirtualdisplay import Display\n",
        "!apt-get install cmake\n",
        "!pip install setuptool\n",
        "!pip install ez_setup\n",
        "!pip install gym[atari] "
      ],
      "execution_count": 2,
      "outputs": [
        {
          "output_type": "stream",
          "text": [
            "\rReading package lists... 0%\r\rReading package lists... 0%\r\rReading package lists... 0%\r\rReading package lists... 7%\r\rReading package lists... 7%\r\rReading package lists... 7%\r\rReading package lists... 7%\r\rReading package lists... 68%\r\rReading package lists... 68%\r\rReading package lists... 69%\r\rReading package lists... 69%\r\rReading package lists... 75%\r\rReading package lists... 75%\r\rReading package lists... 75%\r\rReading package lists... 75%\r\rReading package lists... 84%\r\rReading package lists... 84%\r\rReading package lists... 84%\r\rReading package lists... 84%\r\rReading package lists... 84%\r\rReading package lists... 84%\r\rReading package lists... 84%\r\rReading package lists... 84%\r\rReading package lists... 88%\r\rReading package lists... 88%\r\rReading package lists... 88%\r\rReading package lists... 88%\r\rReading package lists... 88%\r\rReading package lists... 93%\r\rReading package lists... 93%\r\rReading package lists... 93%\r\rReading package lists... 93%\r\rReading package lists... 94%\r\rReading package lists... 94%\r\rReading package lists... 94%\r\rReading package lists... 94%\r\rReading package lists... 95%\r\rReading package lists... 95%\r\rReading package lists... 98%\r\rReading package lists... 98%\r\rReading package lists... 98%\r\rReading package lists... 98%\r\rReading package lists... Done\r\n",
            "\rBuilding dependency tree... 0%\r\rBuilding dependency tree... 0%\r\rBuilding dependency tree... 50%\r\rBuilding dependency tree... 50%\r\rBuilding dependency tree       \r\n",
            "\rReading state information... 0%\r\rReading state information... 0%\r\rReading state information... Done\r\n",
            "Package libav-tools is not available, but is referred to by another package.\n",
            "This may mean that the package is missing, has been obsoleted, or\n",
            "is only available from another source\n",
            "However the following packages replace it:\n",
            "  ffmpeg\n",
            "\n",
            "E: Package 'libav-tools' has no installation candidate\n",
            "Requirement already satisfied: pyvirtualdisplay in /usr/local/lib/python3.6/dist-packages (0.2.4)\n",
            "Requirement already satisfied: EasyProcess in /usr/local/lib/python3.6/dist-packages (from pyvirtualdisplay) (0.2.7)\n",
            "Requirement already satisfied: pyglet==1.3.2 in /usr/local/lib/python3.6/dist-packages (1.3.2)\n",
            "Requirement already satisfied: future in /usr/local/lib/python3.6/dist-packages (from pyglet==1.3.2) (0.16.0)\n",
            "Reading package lists... Done\n",
            "Building dependency tree       \n",
            "Reading state information... Done\n",
            "xvfb is already the newest version (2:1.19.6-1ubuntu4.3).\n",
            "The following package was automatically installed and is no longer required:\n",
            "  libnvidia-common-410\n",
            "Use 'apt autoremove' to remove it.\n",
            "0 upgraded, 0 newly installed, 0 to remove and 4 not upgraded.\n",
            "Reading package lists... Done\n",
            "Building dependency tree       \n",
            "Reading state information... Done\n",
            "cmake is already the newest version (3.10.2-1ubuntu2).\n",
            "The following package was automatically installed and is no longer required:\n",
            "  libnvidia-common-410\n",
            "Use 'apt autoremove' to remove it.\n",
            "0 upgraded, 0 newly installed, 0 to remove and 4 not upgraded.\n",
            "Collecting setuptool\n",
            "\u001b[31m  ERROR: Could not find a version that satisfies the requirement setuptool (from versions: none)\u001b[0m\n",
            "\u001b[31mERROR: No matching distribution found for setuptool\u001b[0m\n",
            "Requirement already satisfied: ez_setup in /usr/local/lib/python3.6/dist-packages (0.9)\n",
            "Requirement already satisfied: gym[atari] in /usr/local/lib/python3.6/dist-packages (0.10.11)\n",
            "Requirement already satisfied: numpy>=1.10.4 in /usr/local/lib/python3.6/dist-packages (from gym[atari]) (1.16.4)\n",
            "Requirement already satisfied: scipy in /usr/local/lib/python3.6/dist-packages (from gym[atari]) (1.3.1)\n",
            "Requirement already satisfied: six in /usr/local/lib/python3.6/dist-packages (from gym[atari]) (1.12.0)\n",
            "Requirement already satisfied: requests>=2.0 in /usr/local/lib/python3.6/dist-packages (from gym[atari]) (2.21.0)\n",
            "Requirement already satisfied: pyglet>=1.2.0 in /usr/local/lib/python3.6/dist-packages (from gym[atari]) (1.3.2)\n",
            "Requirement already satisfied: PyOpenGL; extra == \"atari\" in /usr/local/lib/python3.6/dist-packages (from gym[atari]) (3.1.0)\n",
            "Requirement already satisfied: Pillow; extra == \"atari\" in /usr/local/lib/python3.6/dist-packages (from gym[atari]) (4.3.0)\n",
            "Requirement already satisfied: atari-py>=0.1.4; extra == \"atari\" in /usr/local/lib/python3.6/dist-packages (from gym[atari]) (0.1.15)\n",
            "Requirement already satisfied: chardet<3.1.0,>=3.0.2 in /usr/local/lib/python3.6/dist-packages (from requests>=2.0->gym[atari]) (3.0.4)\n",
            "Requirement already satisfied: idna<2.9,>=2.5 in /usr/local/lib/python3.6/dist-packages (from requests>=2.0->gym[atari]) (2.8)\n",
            "Requirement already satisfied: certifi>=2017.4.17 in /usr/local/lib/python3.6/dist-packages (from requests>=2.0->gym[atari]) (2019.6.16)\n",
            "Requirement already satisfied: urllib3<1.25,>=1.21.1 in /usr/local/lib/python3.6/dist-packages (from requests>=2.0->gym[atari]) (1.24.3)\n",
            "Requirement already satisfied: future in /usr/local/lib/python3.6/dist-packages (from pyglet>=1.2.0->gym[atari]) (0.16.0)\n",
            "Requirement already satisfied: olefile in /usr/local/lib/python3.6/dist-packages (from Pillow; extra == \"atari\"->gym[atari]) (0.46)\n"
          ],
          "name": "stdout"
        }
      ]
    },
    {
      "cell_type": "code",
      "metadata": {
        "id": "tO_rmyb_f3Kh",
        "colab_type": "code",
        "outputId": "4fff80e3-5eb3-464b-d30b-b2c991d14513",
        "colab": {
          "base_uri": "https://localhost:8080/",
          "height": 336
        }
      },
      "source": [
        "!pip install box2d-py\n",
        "!pip install gym[Box_2D]\n",
        "import gym\n",
        "import random\n",
        "import torch\n",
        "import numpy as np\n",
        "from collections import deque\n",
        "import matplotlib.pyplot as plt\n",
        "%matplotlib inline\n",
        "\n",
        "\n",
        "!pip -m pip install pyvirtualdisplay\n",
        "from pyvirtualdisplay import Display\n",
        "display = Display(visible=0, size=(1400, 900))\n",
        "display.start()\n",
        "\n",
        "is_ipython = 'inline' in plt.get_backend()\n",
        "if is_ipython:\n",
        "    from IPython import display\n",
        "\n",
        "plt.ion()"
      ],
      "execution_count": 3,
      "outputs": [
        {
          "output_type": "stream",
          "text": [
            "Requirement already satisfied: box2d-py in /usr/local/lib/python3.6/dist-packages (2.3.8)\n",
            "Requirement already satisfied: gym[Box_2D] in /usr/local/lib/python3.6/dist-packages (0.10.11)\n",
            "\u001b[33m  WARNING: gym 0.10.11 does not provide the extra 'box_2d'\u001b[0m\n",
            "Requirement already satisfied: pyglet>=1.2.0 in /usr/local/lib/python3.6/dist-packages (from gym[Box_2D]) (1.3.2)\n",
            "Requirement already satisfied: scipy in /usr/local/lib/python3.6/dist-packages (from gym[Box_2D]) (1.3.1)\n",
            "Requirement already satisfied: requests>=2.0 in /usr/local/lib/python3.6/dist-packages (from gym[Box_2D]) (2.21.0)\n",
            "Requirement already satisfied: six in /usr/local/lib/python3.6/dist-packages (from gym[Box_2D]) (1.12.0)\n",
            "Requirement already satisfied: numpy>=1.10.4 in /usr/local/lib/python3.6/dist-packages (from gym[Box_2D]) (1.16.4)\n",
            "Requirement already satisfied: future in /usr/local/lib/python3.6/dist-packages (from pyglet>=1.2.0->gym[Box_2D]) (0.16.0)\n",
            "Requirement already satisfied: idna<2.9,>=2.5 in /usr/local/lib/python3.6/dist-packages (from requests>=2.0->gym[Box_2D]) (2.8)\n",
            "Requirement already satisfied: certifi>=2017.4.17 in /usr/local/lib/python3.6/dist-packages (from requests>=2.0->gym[Box_2D]) (2019.6.16)\n",
            "Requirement already satisfied: chardet<3.1.0,>=3.0.2 in /usr/local/lib/python3.6/dist-packages (from requests>=2.0->gym[Box_2D]) (3.0.4)\n",
            "Requirement already satisfied: urllib3<1.25,>=1.21.1 in /usr/local/lib/python3.6/dist-packages (from requests>=2.0->gym[Box_2D]) (1.24.3)\n",
            "\n",
            "Usage:   \n",
            "  pip3 <command> [options]\n",
            "\n",
            "no such option: -m\n"
          ],
          "name": "stdout"
        },
        {
          "output_type": "stream",
          "text": [
            "xdpyinfo was not found, X start can not be checked! Please install xdpyinfo!\n"
          ],
          "name": "stderr"
        }
      ]
    },
    {
      "cell_type": "markdown",
      "metadata": {
        "id": "So86pwYund1x",
        "colab_type": "text"
      },
      "source": [
        "Define Environment"
      ]
    },
    {
      "cell_type": "code",
      "metadata": {
        "id": "GI7LTn-Qncwc",
        "colab_type": "code",
        "outputId": "216683ac-869a-42e5-f83e-0712540b4e29",
        "colab": {
          "base_uri": "https://localhost:8080/",
          "height": 50
        }
      },
      "source": [
        "env = gym.make('LunarLander-v2')\n",
        "env.seed(0)\n",
        "print('State shape: ', env.observation_space.shape)\n",
        "print('Number of actions: ', env.action_space.n)"
      ],
      "execution_count": 7,
      "outputs": [
        {
          "output_type": "stream",
          "text": [
            "State shape:  (8,)\n",
            "Number of actions:  4\n"
          ],
          "name": "stdout"
        }
      ]
    },
    {
      "cell_type": "code",
      "metadata": {
        "id": "lt17L7o1k3X0",
        "colab_type": "code",
        "colab": {}
      },
      "source": [
        "##Network\n",
        "\n",
        "import torch\n",
        "import torch.nn as nn\n",
        "import torch.nn.functional as F\n",
        "\n",
        "class QNetwork(nn.Module):\n",
        "  \"\"\"Actor (Policy) Model.\"\"\"\n",
        "  def __init__(self, state_size, action_size, seed):\n",
        "    '''\n",
        "    Initialize Parameters\n",
        "    '''\n",
        "    super(QNetwork, self).__init__()\n",
        "    self.state_size = state_size\n",
        "    self.action_size = action_size\n",
        "    self.seed = torch.manual_seed(seed)\n",
        "    \n",
        "    self.features = nn.Sequential(\n",
        "            nn.Linear(state_size, 128),\n",
        "            nn.ReLU(),\n",
        "            nn.Linear(128, 128),\n",
        "            nn.ReLU(),\n",
        "            nn.Linear(128, action_size)\n",
        "        )\n",
        "\n",
        "  \n",
        "  def forward(self, state):\n",
        "    \"\"\"\n",
        "    Build a network that maps state -> action values.\n",
        "    \"\"\"\n",
        "    x = self.features(state)\n",
        "\n",
        "    return x"
      ],
      "execution_count": 0,
      "outputs": []
    },
    {
      "cell_type": "code",
      "metadata": {
        "id": "bS7fkQjAm6Mg",
        "colab_type": "code",
        "colab": {}
      },
      "source": [
        "import numpy as np\n",
        "import random\n",
        "from collections import namedtuple, deque\n",
        "import math ## this is required \n",
        "import torch.optim as optim\n",
        "\n",
        "##HYPERPARAMETERS\n",
        "\n",
        "BUFFER_SIZE = int(1e5)  ##replay buffer size\n",
        "BATCH_SIZE  = 128       ##minibatch size\n",
        "GAMMA  = .99            ##discount factor\n",
        "TAU = 1e-3              # for soft update of target parameters\n",
        "LR = 5e-4               # learning rate\n",
        "#LR = 1e-5  \n",
        "\n",
        "UPDATE_EVERY = 4        ## how often local network gets copied to target network\n",
        "\n",
        "if torch.cuda.is_available():\n",
        "  device = torch.device(\"cuda:0\")\n",
        "else:\n",
        "  device = torch.device(\"cpu\")\n",
        "\n",
        "  \n"
      ],
      "execution_count": 0,
      "outputs": []
    },
    {
      "cell_type": "code",
      "metadata": {
        "id": "2MZPZoas1DF6",
        "colab_type": "code",
        "colab": {}
      },
      "source": [
        "## Define the Replay Buffer ( Deque)\n",
        "\n",
        "class ReplayBuffer:\n",
        "  \"\"\"\n",
        "  Fixed-size buffer to store experience tuples.\n",
        "  \"\"\"\n",
        "  def __init__(self,action_size, buffer_size, batch_size, seed, prob_alpha = 0.6):\n",
        "    self.seed = random.seed(seed)\n",
        "    self.buffer_size = buffer_size\n",
        "    self.batch_size = batch_size\n",
        "    self.action_size = action_size\n",
        "    self.prob_alpha = prob_alpha\n",
        "    self.priority = np.zeros((self.buffer_size,) ,dtype= np.float32)\n",
        "\n",
        "    \n",
        "    ##self.experience = namedtuple(\"Experience\", field_names =[\"state\", \"actions\",\"rewards\",\"next_state\", \"done\"])\n",
        "    ##self.memory = deque(maxlen= buffer_size)\n",
        "    self.internalmemory = []\n",
        "    self.pos = 0\n",
        "    \n",
        "  def add(self, state, action,rewards, next_state, done):\n",
        "      \n",
        "    ##experience = self.experience(state, action,rewards,next_state, done)\n",
        "    ##self.memory.append(experience)\n",
        "    \n",
        "    if len(self.internalmemory)>0:\n",
        "      \n",
        "      max_prior = self.priority.max()\n",
        "    else:\n",
        "      max_prior = 1.0\n",
        "    \n",
        "    ##Replace or add memory depening of the current memory size\n",
        "    if len(self.internalmemory)== self.buffer_size:\n",
        "      self.internalmemory[self.pos] = (state, action,rewards, next_state, done)\n",
        "    else:\n",
        "      self.internalmemory.append((state, action,rewards, next_state, done))\n",
        "    \n",
        "    #print(self.pos,'!', len(self.internalmemory))\n",
        "    \n",
        "\n",
        "      \n",
        "    ##print(max_prior)\n",
        "    \n",
        "    \n",
        "    self.priority[self.pos] = max_prior\n",
        "    #print(self.priority[self.pos])\n",
        "    self.pos = (self.pos + 1) % self.buffer_size\n",
        "      \n",
        "  def sample(self,beta=0.4):\n",
        "    '''\n",
        "    Randomly sample a batch from experience\n",
        "    '''\n",
        "    \n",
        "    ##print('xyz',len(self.internalmemory), self.priority[self.pos-1])\n",
        "    \n",
        "    \n",
        "    \n",
        "    ##experiences = random.sample(self.memory,k = self.batch_size)\n",
        "    if len(self.internalmemory) == self.buffer_size:\n",
        "      probs = self.priority\n",
        "    else:\n",
        "      probs = self.priority[:len(self.internalmemory)]\n",
        "      \n",
        "    probs = probs **self.prob_alpha\n",
        "      \n",
        "    probs = probs/sum(probs)\n",
        "    \n",
        "    ##print(probs)\n",
        "      \n",
        "    indices = np.random.choice(len(self.internalmemory), self.batch_size, p = probs)\n",
        "    \n",
        "    samples = [self.internalmemory[i] for i in indices]\n",
        "    \n",
        "    \n",
        "      \n",
        "    state = torch.from_numpy(np.vstack(  [e[0] for e in samples])).float().to(device)\n",
        "    actions = torch.from_numpy(np.vstack([e[1] for e in samples])).long().to(device)  ## dont change to float\n",
        "    rewards = torch.from_numpy(np.vstack([e[2] for e in samples])).float().to(device)\n",
        "    next_state = torch.from_numpy(np.vstack([e[3] for e in samples])).float().to(device)\n",
        "    done = torch.from_numpy(np.vstack([e[4] for e in samples])).float().to(device)\n",
        "    \n",
        "    #print(state.shape)\n",
        "    \n",
        "    weights = (len(self.internalmemory)*probs[indices])**(-beta)\n",
        "    \n",
        "    weights = weights/weights.max()\n",
        "    \n",
        "    #print('weights',weights.shape)\n",
        "    \n",
        "    return state,actions, rewards, next_state, done, indices, weights\n",
        "  \n",
        "  def __len__(self):\n",
        "    \"\"\"\n",
        "    Return the current size of internal memory.\n",
        "    \"\"\"\n",
        "    return len(self.internalmemory)\n",
        "  \n",
        "  def update_priority(self,batch_indices,priorities):\n",
        "    \n",
        "    #print(batch_indices.shape)\n",
        "    #print(priorities.shape)\n",
        "    for batch_index, priority in zip(batch_indices,priorities):\n",
        "      self.priority[batch_index] = priority\n",
        "\n"
      ],
      "execution_count": 0,
      "outputs": []
    },
    {
      "cell_type": "code",
      "metadata": {
        "id": "kHLpz6dJ1ExI",
        "colab_type": "code",
        "colab": {}
      },
      "source": [
        "## Define the Agent\n",
        "\n",
        "class Agent():\n",
        "  '''\n",
        "  Interacts with and learns from the environment.\n",
        "  '''\n",
        "  def __init__(self,state_size,action_size, seed,batch_size= BATCH_SIZE,buffer_size= BUFFER_SIZE,lr=LR , gamma= GAMMA ):\n",
        "    \n",
        "    self.state_size = state_size\n",
        "    self.action_size = action_size\n",
        "    self.buffer_size = buffer_size\n",
        "    self.batch_size = batch_size\n",
        "    self.lr = lr\n",
        "    self.gamma = gamma\n",
        "    \n",
        "    self.seed = random.seed(seed)\n",
        "    \n",
        "    # Q-Network\n",
        "    self.qnetwork_local =  QNetwork(self.state_size, self.action_size, seed).to(device)\n",
        "    self.qnetwork_target = QNetwork(self.state_size , self.action_size, seed).to(device)\n",
        "    self.optimizer = optim.Adam(self.qnetwork_local.parameters(),lr= self.lr)\n",
        "    self.criterion = nn.MSELoss()\n",
        "    \n",
        "    # Replay memory\n",
        "    self.memory = ReplayBuffer(action_size, buffer_size, batch_size, seed)\n",
        "    ##print('**', self.memory.priority)\n",
        "    # Initialize time step (for updating every UPDATE_EVERY steps)\n",
        "    self.t_step = 0\n",
        "  \n",
        "  \n",
        "  def step(self,state,actions,rewards, next_state,done,beta):\n",
        "    self.memory.add(state,actions,rewards, next_state,done)\n",
        "    self.t_step =(self.t_step + 1)% UPDATE_EVERY\n",
        "    ## dont learn whenever 1 batch is added.\n",
        "    ##Rather wait for UPDATE_EVERY batch to be added before we call learn once\n",
        "    if self.t_step==0:\n",
        "      if len(self.memory)> self.batch_size:\n",
        "\n",
        "        state,actions, rewards, next_state, done, indices, weights = self.memory.sample(beta)\n",
        "        #print('**', weights.shape)\n",
        "        self.learn(state,actions, rewards, next_state, done, indices, weights, self.gamma)\n",
        "    \n",
        "  def learn(self,state,actions, rewards, next_state, done, indices, weights, gamma):\n",
        "    \"\"\"\n",
        "    Update value parameters using given batch of experience tuples.\n",
        "    \"\"\"\n",
        "    ##state, actions, rewards,next_state, done = experiences \n",
        "    target_q = self.qnetwork_target(next_state).detach()\n",
        "    target_values = rewards + gamma*torch.max(target_q, 1)[0].unsqueeze(1)*(1-done)\n",
        "    current_values= self.qnetwork_local(state).gather(1, actions)    \n",
        "    \n",
        "    \n",
        "    #print('$', ((current_values - target_values).pow(2)).shape)\n",
        "    #print('$',weights.shape)\n",
        "    # Compute loss\n",
        "    ##loss = self.criterion(current_values,target_values)\\\n",
        "    weights = torch.tensor(weights.reshape(-1,1)).float().to(device)\n",
        "    loss = (current_values - target_values).pow(2) * weights\n",
        "    loss = loss + 1e-5 ## this is to avoid zero probability to pick a tuple\n",
        "    #print('!!', indices.shape, loss.shape)\n",
        "    self.memory.update_priority(indices,loss)\n",
        "    \n",
        "    loss= loss.mean()\n",
        "    \n",
        "    \n",
        "    ##optimization step\n",
        "    self.optimizer.zero_grad()\n",
        "    loss.backward()\n",
        "    self.optimizer.step()\n",
        "    \n",
        "    # ----- Update the target network -----\n",
        "    if self.t_step==0:\n",
        "      ## when it comes here self.t_step will always be 0 anyways. \n",
        "      ## So you may remove this if condition\n",
        "      self.soft_update(self.qnetwork_local, self.qnetwork_target,TAU)\n",
        "    \n",
        "  def soft_update(self, qnetwork_local, qnetwork_target,tau):\n",
        "    '''\n",
        "    Update the target Q Network\n",
        "    '''\n",
        "    for local_parms, target_parms in zip(qnetwork_local.parameters(), qnetwork_target.parameters()):\n",
        "      target_parms.data.copy_(tau*local_parms.data + (1.0 -tau)*target_parms.data)\n",
        "        \n",
        "        \n",
        "  def act(self, state, epsilon =0.0):\n",
        "\n",
        "    \"\"\"\n",
        "    Returns actions for given state as per current policy.\n",
        "    \"\"\"\n",
        "    state = torch.from_numpy(state).float().unsqueeze(0).to(device)\n",
        "\n",
        "    self.qnetwork_local.eval()\n",
        "    with torch.no_grad():\n",
        "      actions_values = self.qnetwork_local(state)\n",
        "\n",
        "    ##Back to train mode\n",
        "    self.qnetwork_local.train()\n",
        "\n",
        "    # Epsilon-greedy action selection\n",
        "\n",
        "    if random.random() > epsilon:\n",
        "      return np.argmax(actions_values.cpu().data.numpy())\n",
        "    else:\n",
        "      return np.random.choice(np.arange(self.action_size))\n",
        "      \n",
        "    "
      ],
      "execution_count": 0,
      "outputs": []
    },
    {
      "cell_type": "code",
      "metadata": {
        "id": "j4BeNf1adeSF",
        "colab_type": "code",
        "colab": {}
      },
      "source": [
        "def dqn(n_episodes = 2000, max_t = 1000, eps_start = 1.0, eps_end = .01, eps_decay = 0.995, trained_score=200.0):\n",
        "  scores =[]\n",
        "  scores_window = deque(maxlen = 100)\n",
        "  eps = eps_start\n",
        "  beta_start = 0.4\n",
        "  beta_frames= 1000 ## set beta to 1 when episode no = beta_frames\n",
        "  \n",
        "  \n",
        "  for episode in range(1, n_episodes+1):\n",
        "    state = env.reset()\n",
        "    score = 0\n",
        "    beta = min(1.0, beta_start +  episode*(1.0 -beta_start)/beta_frames)\n",
        "    for t in range(max_t):\n",
        "      action = agent.act(state,eps)\n",
        "      next_state , rewards, done, _ = env.step(action)\n",
        "      agent.step(state, action,rewards,next_state ,  done ,beta)\n",
        "      state = next_state\n",
        "      score += rewards\n",
        "      if done:\n",
        "        break\n",
        "    scores_window.append(score)\n",
        "    scores.append(score)\n",
        "    eps = max(eps_end, eps*eps_decay)  ## reduce randomness epsilon as we learn\n",
        "    print('\\rEpisode {}\\tAverage Score: {:.2f}'.format(episode, np.mean(scores_window)), end=\"\")\n",
        "    if episode % 100 == 0:\n",
        "      print('\\rEpisode {}\\tAverage Score: {:.2f}'.format(episode, np.mean(scores_window)))\n",
        "    ##if np.mean(scores_window)>=200.0:\n",
        "    if np.mean(scores_window)>=trained_score:\n",
        "        print('\\nEnvironment solved in {:d} episodes!\\tAverage Score: {:.2f}'.format(episode-100, np.mean(scores_window)))\n",
        "        torch.save(agent.qnetwork_local.state_dict(), 'checkpoint.pth')\n",
        "        break\n",
        "  return scores\n",
        "    \n",
        "  \n"
      ],
      "execution_count": 0,
      "outputs": []
    },
    {
      "cell_type": "code",
      "metadata": {
        "id": "Mdjdjye7k-WY",
        "colab_type": "code",
        "outputId": "47ad87f8-9747-4ee0-f883-c956deecabd1",
        "colab": {
          "base_uri": "https://localhost:8080/",
          "height": 418
        }
      },
      "source": [
        "env_observation_space = 8\n",
        "env_action_space = 4\n",
        "\n",
        "agent = Agent(env_observation_space ,env_action_space, seed=0 )\n",
        "scores = dqn()\n",
        "# plot the scores\n",
        "fig = plt.figure()\n",
        "ax = fig.add_subplot(111)\n",
        "plt.plot(np.arange(len(scores)) , scores)\n",
        "\n",
        "plt.xlabel('Episodes')\n",
        "plt.ylabel('Scores')\n",
        "plt.show()"
      ],
      "execution_count": 170,
      "outputs": [
        {
          "output_type": "stream",
          "text": [
            "Episode 100\tAverage Score: -177.03\n",
            "Episode 200\tAverage Score: -152.09\n",
            "Episode 300\tAverage Score: -144.79\n",
            "Episode 400\tAverage Score: -79.89\n",
            "Episode 500\tAverage Score: 5.72\n",
            "Episode 600\tAverage Score: 150.75\n",
            "Episode 649\tAverage Score: 200.56\n",
            "Environment solved in 549 episodes!\tAverage Score: 200.56\n"
          ],
          "name": "stdout"
        },
        {
          "output_type": "display_data",
          "data": {
            "image/png": "[encoded data removed]",
            "text/plain": [
              "<Figure size 432x288 with 1 Axes>"
            ]
          },
          "metadata": {
            "tags": []
          }
        }
      ]
    },
    {
      "cell_type": "code",
      "metadata": {
        "id": "96sob8_EQ7Sy",
        "colab_type": "code",
        "colab": {}
      },
      "source": [
        "##For environment where CNN is required as part of QNetwork"
      ],
      "execution_count": 0,
      "outputs": []
    },
    {
      "cell_type": "code",
      "metadata": {
        "id": "4k26yJVSQSWh",
        "colab_type": "code",
        "colab": {}
      },
      "source": [
        "class QNetwork(nn.Module):\n",
        "  \"\"\"Actor (Policy) Model.\"\"\"\n",
        "  def __init__(self, state_size, action_size, seed):\n",
        "    '''\n",
        "    Initialize Parameters\n",
        "    '''\n",
        "    super(QNetwork, self).__init__()\n",
        "    self.state_size = state_size\n",
        "    self.action_size = action_size\n",
        "    self.seed = torch.manual_seed(seed)\n",
        "    \n",
        "    self.features = nn.Sequential(\n",
        "            nn.Conv2d(input_shape[0], 32, kernel_size=8, stride=4),\n",
        "            nn.ReLU(),\n",
        "            nn.Conv2d(32, 64, kernel_size=4, stride=2),\n",
        "            nn.ReLU(),\n",
        "            nn.Conv2d(64, 64, kernel_size=3, stride=1),\n",
        "            nn.ReLU()\n",
        "        )\n",
        "        \n",
        "    ##check this 3136 size when you are implementing.\n",
        "    self.advantage = nn.Sequential(nn.Linear(3136,512),\n",
        "                                   nn.ReLU(),\n",
        "                                   nn.Linear(512,action_size)\n",
        "                                  )\n",
        "                                   \n",
        "    self.value =     nn.Sequential(nn.Linear(3136,512),\n",
        "                                   nn.ReLU(),\n",
        "                                   nn.Linear(512,1)\n",
        "                                  )\n",
        "                                   \n",
        "\n",
        "  \n",
        "  def forward(self, state):\n",
        "    \"\"\"\n",
        "    Build a network that maps state -> action values.\n",
        "    \"\"\"\n",
        "    x = self.features(state)\n",
        "    x= x.reshape(x.shape[0],-1)\n",
        "    #advantage\n",
        "    advantage = self.advantage(x)\n",
        "    #value\n",
        "    value = self.value(x)\n",
        "    return value + advantage - advantage.mean()"
      ],
      "execution_count": 0,
      "outputs": []
    },
    {
      "cell_type": "code",
      "metadata": {
        "id": "W-BIPRRL1fBN",
        "colab_type": "code",
        "colab": {}
      },
      "source": [
        ""
      ],
      "execution_count": 0,
      "outputs": []
    },
    {
      "cell_type": "code",
      "metadata": {
        "id": "fComFphRnQ-o",
        "colab_type": "code",
        "colab": {}
      },
      "source": [
        "# load the weights from file\n",
        "agent.qnetwork_local.load_state_dict(torch.load('checkpoint.pth'))\n",
        "\n",
        "for i in range(3):\n",
        "    state = env.reset()\n",
        "    img = plt.imshow(env.render(mode='rgb_array'))\n",
        "    for j in range(200):\n",
        "        action = agent.act(state)\n",
        "        img.set_data(env.render(mode='rgb_array')) \n",
        "        plt.axis('off')\n",
        "        display.display(plt.gcf())\n",
        "        display.clear_output(wait=True)\n",
        "        state, reward, done, _ = env.step(action)\n",
        "        if done:\n",
        "            break \n",
        "            \n"
      ],
      "execution_count": 0,
      "outputs": []
    },
    {
      "cell_type": "code",
      "metadata": {
        "id": "TN7Y4UF9zP7s",
        "colab_type": "code",
        "colab": {}
      },
      "source": [
        "env.close()"
      ],
      "execution_count": 0,
      "outputs": []
    }
  ]
}